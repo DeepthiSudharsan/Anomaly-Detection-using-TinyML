{
 "cells": [
  {
   "cell_type": "markdown",
   "metadata": {},
   "source": [
    "## IMPORTING LIBRARIES AND READING THE DATA"
   ]
  },
  {
   "cell_type": "code",
   "execution_count": 1,
   "metadata": {},
   "outputs": [],
   "source": [
    "# IMPORTING LIBRARIES \n",
    "import pandas as pd\n",
    "import numpy as np\n",
    "from sklearn.metrics import confusion_matrix, classification_report\n",
    "import matplotlib.pyplot as plt\n",
    "import tensorflow as tf\n",
    "import seaborn as sns\n",
    "from pylab import rcParams\n",
    "from sklearn.model_selection import train_test_split\n",
    "from tensorflow.keras import datasets, layers,models\n",
    "from tensorflow.keras.models import Model, load_model\n",
    "from tensorflow.keras.layers import Input, Dense, Activation\n",
    "from tensorflow.keras.callbacks import ModelCheckpoint, TensorBoard\n",
    "from tensorflow.keras import regularizers\n",
    "from sklearn.preprocessing import LabelEncoder\n",
    "import warnings \n",
    "warnings.filterwarnings(\"ignore\")\n",
    "from sklearn.utils import class_weight\n",
    "from sklearn.metrics import accuracy_score\n",
    "import c_writer\n",
    "from os.path import join"
   ]
  },
  {
   "cell_type": "code",
   "execution_count": 2,
   "metadata": {},
   "outputs": [
    {
     "data": {
      "text/html": [
       "<div>\n",
       "<style scoped>\n",
       "    .dataframe tbody tr th:only-of-type {\n",
       "        vertical-align: middle;\n",
       "    }\n",
       "\n",
       "    .dataframe tbody tr th {\n",
       "        vertical-align: top;\n",
       "    }\n",
       "\n",
       "    .dataframe thead th {\n",
       "        text-align: right;\n",
       "    }\n",
       "</style>\n",
       "<table border=\"1\" class=\"dataframe\">\n",
       "  <thead>\n",
       "    <tr style=\"text-align: right;\">\n",
       "      <th></th>\n",
       "      <th>V1</th>\n",
       "      <th>V2</th>\n",
       "      <th>V3</th>\n",
       "      <th>V4</th>\n",
       "      <th>V5</th>\n",
       "      <th>V6</th>\n",
       "      <th>V7</th>\n",
       "      <th>V8</th>\n",
       "      <th>V9</th>\n",
       "      <th>V10</th>\n",
       "      <th>...</th>\n",
       "      <th>V21</th>\n",
       "      <th>V22</th>\n",
       "      <th>V23</th>\n",
       "      <th>V24</th>\n",
       "      <th>V25</th>\n",
       "      <th>V26</th>\n",
       "      <th>V27</th>\n",
       "      <th>V28</th>\n",
       "      <th>Amount</th>\n",
       "      <th>Class</th>\n",
       "    </tr>\n",
       "  </thead>\n",
       "  <tbody>\n",
       "    <tr>\n",
       "      <td>0</td>\n",
       "      <td>-1.359807</td>\n",
       "      <td>-0.072781</td>\n",
       "      <td>2.536347</td>\n",
       "      <td>1.378155</td>\n",
       "      <td>-0.338321</td>\n",
       "      <td>0.462388</td>\n",
       "      <td>0.239599</td>\n",
       "      <td>0.098698</td>\n",
       "      <td>0.363787</td>\n",
       "      <td>0.090794</td>\n",
       "      <td>...</td>\n",
       "      <td>-0.018307</td>\n",
       "      <td>0.277838</td>\n",
       "      <td>-0.110474</td>\n",
       "      <td>0.066928</td>\n",
       "      <td>0.128539</td>\n",
       "      <td>-0.189115</td>\n",
       "      <td>0.133558</td>\n",
       "      <td>-0.021053</td>\n",
       "      <td>149.62</td>\n",
       "      <td>0</td>\n",
       "    </tr>\n",
       "    <tr>\n",
       "      <td>1</td>\n",
       "      <td>1.191857</td>\n",
       "      <td>0.266151</td>\n",
       "      <td>0.166480</td>\n",
       "      <td>0.448154</td>\n",
       "      <td>0.060018</td>\n",
       "      <td>-0.082361</td>\n",
       "      <td>-0.078803</td>\n",
       "      <td>0.085102</td>\n",
       "      <td>-0.255425</td>\n",
       "      <td>-0.166974</td>\n",
       "      <td>...</td>\n",
       "      <td>-0.225775</td>\n",
       "      <td>-0.638672</td>\n",
       "      <td>0.101288</td>\n",
       "      <td>-0.339846</td>\n",
       "      <td>0.167170</td>\n",
       "      <td>0.125895</td>\n",
       "      <td>-0.008983</td>\n",
       "      <td>0.014724</td>\n",
       "      <td>2.69</td>\n",
       "      <td>0</td>\n",
       "    </tr>\n",
       "    <tr>\n",
       "      <td>2</td>\n",
       "      <td>-1.358354</td>\n",
       "      <td>-1.340163</td>\n",
       "      <td>1.773209</td>\n",
       "      <td>0.379780</td>\n",
       "      <td>-0.503198</td>\n",
       "      <td>1.800499</td>\n",
       "      <td>0.791461</td>\n",
       "      <td>0.247676</td>\n",
       "      <td>-1.514654</td>\n",
       "      <td>0.207643</td>\n",
       "      <td>...</td>\n",
       "      <td>0.247998</td>\n",
       "      <td>0.771679</td>\n",
       "      <td>0.909412</td>\n",
       "      <td>-0.689281</td>\n",
       "      <td>-0.327642</td>\n",
       "      <td>-0.139097</td>\n",
       "      <td>-0.055353</td>\n",
       "      <td>-0.059752</td>\n",
       "      <td>378.66</td>\n",
       "      <td>0</td>\n",
       "    </tr>\n",
       "    <tr>\n",
       "      <td>3</td>\n",
       "      <td>-0.966272</td>\n",
       "      <td>-0.185226</td>\n",
       "      <td>1.792993</td>\n",
       "      <td>-0.863291</td>\n",
       "      <td>-0.010309</td>\n",
       "      <td>1.247203</td>\n",
       "      <td>0.237609</td>\n",
       "      <td>0.377436</td>\n",
       "      <td>-1.387024</td>\n",
       "      <td>-0.054952</td>\n",
       "      <td>...</td>\n",
       "      <td>-0.108300</td>\n",
       "      <td>0.005274</td>\n",
       "      <td>-0.190321</td>\n",
       "      <td>-1.175575</td>\n",
       "      <td>0.647376</td>\n",
       "      <td>-0.221929</td>\n",
       "      <td>0.062723</td>\n",
       "      <td>0.061458</td>\n",
       "      <td>123.50</td>\n",
       "      <td>0</td>\n",
       "    </tr>\n",
       "    <tr>\n",
       "      <td>4</td>\n",
       "      <td>-1.158233</td>\n",
       "      <td>0.877737</td>\n",
       "      <td>1.548718</td>\n",
       "      <td>0.403034</td>\n",
       "      <td>-0.407193</td>\n",
       "      <td>0.095921</td>\n",
       "      <td>0.592941</td>\n",
       "      <td>-0.270533</td>\n",
       "      <td>0.817739</td>\n",
       "      <td>0.753074</td>\n",
       "      <td>...</td>\n",
       "      <td>-0.009431</td>\n",
       "      <td>0.798278</td>\n",
       "      <td>-0.137458</td>\n",
       "      <td>0.141267</td>\n",
       "      <td>-0.206010</td>\n",
       "      <td>0.502292</td>\n",
       "      <td>0.219422</td>\n",
       "      <td>0.215153</td>\n",
       "      <td>69.99</td>\n",
       "      <td>0</td>\n",
       "    </tr>\n",
       "  </tbody>\n",
       "</table>\n",
       "<p>5 rows × 30 columns</p>\n",
       "</div>"
      ],
      "text/plain": [
       "         V1        V2        V3        V4        V5        V6        V7  \\\n",
       "0 -1.359807 -0.072781  2.536347  1.378155 -0.338321  0.462388  0.239599   \n",
       "1  1.191857  0.266151  0.166480  0.448154  0.060018 -0.082361 -0.078803   \n",
       "2 -1.358354 -1.340163  1.773209  0.379780 -0.503198  1.800499  0.791461   \n",
       "3 -0.966272 -0.185226  1.792993 -0.863291 -0.010309  1.247203  0.237609   \n",
       "4 -1.158233  0.877737  1.548718  0.403034 -0.407193  0.095921  0.592941   \n",
       "\n",
       "         V8        V9       V10  ...       V21       V22       V23       V24  \\\n",
       "0  0.098698  0.363787  0.090794  ... -0.018307  0.277838 -0.110474  0.066928   \n",
       "1  0.085102 -0.255425 -0.166974  ... -0.225775 -0.638672  0.101288 -0.339846   \n",
       "2  0.247676 -1.514654  0.207643  ...  0.247998  0.771679  0.909412 -0.689281   \n",
       "3  0.377436 -1.387024 -0.054952  ... -0.108300  0.005274 -0.190321 -1.175575   \n",
       "4 -0.270533  0.817739  0.753074  ... -0.009431  0.798278 -0.137458  0.141267   \n",
       "\n",
       "        V25       V26       V27       V28  Amount  Class  \n",
       "0  0.128539 -0.189115  0.133558 -0.021053  149.62      0  \n",
       "1  0.167170  0.125895 -0.008983  0.014724    2.69      0  \n",
       "2 -0.327642 -0.139097 -0.055353 -0.059752  378.66      0  \n",
       "3  0.647376 -0.221929  0.062723  0.061458  123.50      0  \n",
       "4 -0.206010  0.502292  0.219422  0.215153   69.99      0  \n",
       "\n",
       "[5 rows x 30 columns]"
      ]
     },
     "execution_count": 2,
     "metadata": {},
     "output_type": "execute_result"
    }
   ],
   "source": [
    "# reading the data\n",
    "df = pd.read_csv(\"creditcard.csv\")\n",
    "#dropping time\n",
    "df = df.drop(columns = [\"Time\"])\n",
    "df.head()"
   ]
  },
  {
   "cell_type": "markdown",
   "metadata": {},
   "source": [
    "## TESTING AND TRAINING OUR NEURAL NETWORK MODELS "
   ]
  },
  {
   "cell_type": "code",
   "execution_count": 3,
   "metadata": {},
   "outputs": [],
   "source": [
    "X = df.loc[:,df.columns!=\"Class\"].to_numpy()\n",
    "X = X/X.max(axis=0) #normalising\n",
    "Y = df.loc[:,df.columns==\"Class\"].to_numpy()\n",
    "X_train, X_test, y_train, y_test = train_test_split(X, Y, test_size=0.20)"
   ]
  },
  {
   "cell_type": "code",
   "execution_count": 6,
   "metadata": {},
   "outputs": [],
   "source": [
    "# Getting input and output layer dimensions\n",
    "input_dim = X_train.shape[1]\n",
    "output_dim = y_train.shape[1]\n",
    "# To store the accuracies of the two models to later find which model is better for our project\n",
    "model_acc = []\n",
    "our_models = []"
   ]
  },
  {
   "cell_type": "code",
   "execution_count": 26,
   "metadata": {},
   "outputs": [],
   "source": [
    "\n",
    "def NN_model(X_train,X_test,y_train,y_test):\n",
    "        # Sequential model with 3 layers\n",
    "        model = tf.keras.models.Sequential([\n",
    "        Dense(units = 16, input_shape =(input_dim,),activation = 'relu'),\n",
    "        Dense(units = 16, activation = 'relu'),\n",
    "        Dense(units = 2, activation = 'softmax')])\n",
    "        # compiling and fitting the model with  optimizer and categorical cross entropy loss\n",
    "        model.compile(optimizer = \"adam\", loss = \"sparse_categorical_crossentropy\")\n",
    "        model.fit(x = X_train, y = y_train, epochs = 10, shuffle = True)\n",
    "        # Predicting\n",
    "        prediction = model.predict(X_test)\n",
    "        # Since it gives the probaility of the class, the class with the max probability is our prediction\n",
    "        y_pred = np.argmax(prediction,axis = -1)\n",
    "        conf_matrix = confusion_matrix(y_test, y_pred)\n",
    "        ax = sns.heatmap(conf_matrix, annot=True, fmt=\"d\")\n",
    "        # The top and bottom of heatmap gets trimmed off so to prevent that we set ylim\n",
    "        bottom, top = ax.get_ylim()\n",
    "        ax.set_ylim(bottom + 0.5, top - 0.5)\n",
    "        plt.title(\"Confusion matrix\")\n",
    "        plt.show()\n",
    "        pred = y_pred.astype(int)\n",
    "        print(\"ACCURACY\")\n",
    "         # Appending model accuracy and model object for later use\n",
    "        model_acc.append(accuracy_score(y_test,pred))\n",
    "        our_models.append(model)\n",
    "        print(accuracy_score(y_test,pred))"
   ]
  },
  {
   "cell_type": "code",
   "execution_count": 33,
   "metadata": {},
   "outputs": [],
   "source": [
    "# function definition for auto-encoder model\n",
    "def autoen_model(X_train, X_test, y_train, y_test ):\n",
    "    \n",
    "    # encoding dimensions\n",
    "    encoding_dim = 16\n",
    "    input_layer = Input(shape=(input_dim, ))\n",
    "    encoder = Dense(encoding_dim, activation =\"tanh\", activity_regularizer = regularizers.l1(1e-5))(input_layer)\n",
    "    encoder = Dense(int(encoding_dim / 2), activation = \"relu\")(encoder)\n",
    "    decoder = Dense(int(encoding_dim / 2), activation ='tanh')(encoder)\n",
    "    decoder = Dense(output_dim, activation ='relu')(decoder)\n",
    "    autoencoder = Model(inputs = input_layer, outputs=decoder)\n",
    "    # no of epochs = number times that the learning algorithm will work through the entire training dataset.\n",
    "    nb_epoch = 10\n",
    "    # batch size\n",
    "    b_size = 32\n",
    "    # Configuring and compiling the model using adam optimizer (stochastic gradient descent method that is \n",
    "    # based on adaptive estimation of first-order and second-order moments) and mean_squared_error loss\n",
    "    # (MSE is the sum of squared distances between our target variable and predicted values)\n",
    "    autoencoder.compile(optimizer='adam',loss='mean_squared_error',metrics=['accuracy'])\n",
    "    # Estimate sample weights by class for unbalanced datasets.\n",
    "    cws = class_weight.compute_sample_weight(\"balanced\", y_train)\n",
    "    weight = {i : cws[i] for i in range(len(np.unique(y_train)))}\n",
    "    # Fitting the model\n",
    "    autoencoder.fit(X_train, y_train,class_weight = weight,epochs=nb_epoch,batch_size = b_size)\n",
    "    # Predicting \n",
    "    predictions = autoencoder.predict(X_test)\n",
    "    # Converting from float to int\n",
    "    pred = predictions.astype(int)\n",
    "    # Confusion matrix heatmap\n",
    "    conf_matrix = confusion_matrix(y_test,pred)\n",
    "    ax = sns.heatmap(conf_matrix, annot=True, fmt=\"d\")\n",
    "    # The top and bottom of heatmap gets trimmed off so to prevent that we set ylim\n",
    "    bottom, top = ax.get_ylim()\n",
    "    ax.set_ylim(bottom + 0.5, top - 0.5)\n",
    "    plt.title(\"Confusion matrix\")\n",
    "    plt.show()\n",
    "    # Calculating root mean square error\n",
    "    rmse = np.sqrt(np.mean(((pred - y_test) ** 2)))\n",
    "    print(\"ROOT MEAN SQUARE ERROR\")\n",
    "    print(rmse)\n",
    "    print(\"ACCURACY\")\n",
    "    # Appending model accuracy and model object for later use \n",
    "    model_acc.append(accuracy_score(y_test,pred))\n",
    "    our_models.append(autoencoder)\n",
    "    print(accuracy_score(y_test,pred))    "
   ]
  },
  {
   "cell_type": "code",
   "execution_count": 27,
   "metadata": {},
   "outputs": [
    {
     "name": "stdout",
     "output_type": "stream",
     "text": [
      "Epoch 1/10\n",
      "7121/7121 [==============================] - 13s 1ms/step - loss: 0.0379\n",
      "Epoch 2/10\n",
      "7121/7121 [==============================] - 7s 1ms/step - loss: 0.0031\n",
      "Epoch 3/10\n",
      "7121/7121 [==============================] - 8s 1ms/step - loss: 0.0034\n",
      "Epoch 4/10\n",
      "7121/7121 [==============================] - 11s 2ms/step - loss: 0.0027\n",
      "Epoch 5/10\n",
      "7121/7121 [==============================] - 8s 1ms/step - loss: 0.0028\n",
      "Epoch 6/10\n",
      "7121/7121 [==============================] - 9s 1ms/step - loss: 0.0028\n",
      "Epoch 7/10\n",
      "7121/7121 [==============================] - 9s 1ms/step - loss: 0.0026\n",
      "Epoch 8/10\n",
      "7121/7121 [==============================] - 9s 1ms/step - loss: 0.0027\n",
      "Epoch 9/10\n",
      "7121/7121 [==============================] - 8s 1ms/step - loss: 0.0027\n",
      "Epoch 10/10\n",
      "7121/7121 [==============================] - 7s 1ms/step - loss: 0.0025\n"
     ]
    },
    {
     "data": {
      "image/png": "[encoded data removed]",
      "text/plain": [
       "<Figure size 432x288 with 2 Axes>"
      ]
     },
     "metadata": {
      "needs_background": "light"
     },
     "output_type": "display_data"
    },
    {
     "name": "stdout",
     "output_type": "stream",
     "text": [
      "ACCURACY\n",
      "0.9994382219725431\n"
     ]
    }
   ],
   "source": [
    "# calling the basic NN model for our testing and training data \n",
    "NN_model(X_train,X_test,y_train,y_test)"
   ]
  },
  {
   "cell_type": "code",
   "execution_count": 34,
   "metadata": {},
   "outputs": [
    {
     "name": "stdout",
     "output_type": "stream",
     "text": [
      "Epoch 1/10\n",
      "7121/7121 [==============================] - 8s 798us/step - loss: 6.9042e-04 - accuracy: 0.9985\n",
      "Epoch 2/10\n",
      "7121/7121 [==============================] - ETA: 0s - loss: 2.6886e-04 - accuracy: 0.99 - 6s 797us/step - loss: 2.6910e-04 - accuracy: 0.9994\n",
      "Epoch 3/10\n",
      "7121/7121 [==============================] - 12s 2ms/step - loss: 2.7286e-04 - accuracy: 0.9995\n",
      "Epoch 4/10\n",
      "7121/7121 [==============================] - 18s 3ms/step - loss: 2.9952e-04 - accuracy: 0.9994\n",
      "Epoch 5/10\n",
      "7121/7121 [==============================] - 11s 2ms/step - loss: 2.8300e-04 - accuracy: 0.9994\n",
      "Epoch 6/10\n",
      "7121/7121 [==============================] - 10s 1ms/step - loss: 2.8970e-04 - accuracy: 0.9994\n",
      "Epoch 7/10\n",
      "7121/7121 [==============================] - 9s 1ms/step - loss: 3.0004e-04 - accuracy: 0.9993\n",
      "Epoch 8/10\n",
      "7121/7121 [==============================] - 11s 1ms/step - loss: 3.0089e-04 - accuracy: 0.9994\n",
      "Epoch 9/10\n",
      "7121/7121 [==============================] - 9s 1ms/step - loss: 2.5341e-04 - accuracy: 0.9995\n",
      "Epoch 10/10\n",
      "7121/7121 [==============================] - 12s 2ms/step - loss: 2.8042e-04 - accuracy: 0.9994\n"
     ]
    },
    {
     "data": {
      "image/png": "[encoded data removed]",
      "text/plain": [
       "<Figure size 432x288 with 2 Axes>"
      ]
     },
     "metadata": {
      "needs_background": "light"
     },
     "output_type": "display_data"
    },
    {
     "name": "stdout",
     "output_type": "stream",
     "text": [
      "ROOT MEAN SQUARE ERROR\n",
      "0.03952777680144061\n",
      "ACCURACY\n",
      "0.9984375548611355\n"
     ]
    }
   ],
   "source": [
    "#calling the auto encoder model for our testing and training data \n",
    "autoen_model(X_train,X_test,y_train,y_test)"
   ]
  },
  {
   "cell_type": "code",
   "execution_count": 36,
   "metadata": {},
   "outputs": [
    {
     "data": {
      "text/html": [
       "<div>\n",
       "<style scoped>\n",
       "    .dataframe tbody tr th:only-of-type {\n",
       "        vertical-align: middle;\n",
       "    }\n",
       "\n",
       "    .dataframe tbody tr th {\n",
       "        vertical-align: top;\n",
       "    }\n",
       "\n",
       "    .dataframe thead th {\n",
       "        text-align: right;\n",
       "    }\n",
       "</style>\n",
       "<table border=\"1\" class=\"dataframe\">\n",
       "  <thead>\n",
       "    <tr style=\"text-align: right;\">\n",
       "      <th></th>\n",
       "      <th>MODEL</th>\n",
       "      <th>ACCURACY</th>\n",
       "    </tr>\n",
       "  </thead>\n",
       "  <tbody>\n",
       "    <tr>\n",
       "      <td>0</td>\n",
       "      <td>DNN</td>\n",
       "      <td>0.999438</td>\n",
       "    </tr>\n",
       "    <tr>\n",
       "      <td>1</td>\n",
       "      <td>AUTOENCODER</td>\n",
       "      <td>0.998438</td>\n",
       "    </tr>\n",
       "  </tbody>\n",
       "</table>\n",
       "</div>"
      ],
      "text/plain": [
       "         MODEL  ACCURACY\n",
       "0          DNN  0.999438\n",
       "1  AUTOENCODER  0.998438"
      ]
     },
     "execution_count": 36,
     "metadata": {},
     "output_type": "execute_result"
    }
   ],
   "source": [
    "# Model accuracies \n",
    "model_names = [\"DNN\",\"AUTOENCODER\"]\n",
    "df_acc = pd.DataFrame(list(zip(model_names,model_acc)))\n",
    "df_acc.rename(columns = {0:'MODEL',1:'ACCURACY'},inplace=True)\n",
    "df_acc"
   ]
  },
  {
   "cell_type": "markdown",
   "metadata": {},
   "source": [
    "## TINYML"
   ]
  },
  {
   "cell_type": "code",
   "execution_count": 39,
   "metadata": {},
   "outputs": [
    {
     "name": "stdout",
     "output_type": "stream",
     "text": [
      "INFO:tensorflow:Assets written to: C:\\Users\\deept\\AppData\\Local\\Temp\\tmpq7donn6s\\assets\n"
     ]
    }
   ],
   "source": [
    "# getting best model object based off max accuracy\n",
    "best_model = our_models[model_acc.index(max(model_acc))]\n",
    "# Convert to tflite model\n",
    "converter = tf.lite.TFLiteConverter.from_keras_model(best_model)\n",
    "tflite_model = converter.convert()\n",
    "\n",
    "# Save the model in .tflite format\n",
    "with open('credit_model.tflite', 'wb') as f:\n",
    "    f.write(tflite_model)"
   ]
  },
  {
   "cell_type": "code",
   "execution_count": 40,
   "metadata": {},
   "outputs": [],
   "source": [
    "# Converting tflite_model to C  \n",
    "# c_writer is a py file in the same folder and has been imported at the beginning of the notebook\n",
    "# Reference : https://github.com/ShawnHymel/tinyml-example-anomaly-detection/blob/master/utils/c_writer.py\n",
    "# Weuse #04x to pad the output to 2 digits with a 0x prefix\n",
    "hex_array = [format(val, '#04x') for val in tflite_model]\n",
    "# Calling function to convert an array into a C string (requires Numpy) \n",
    "# create_array(np_array, var_type, var_name, line_limit=80, indent=4)\n",
    "c_model = c_writer.create_array(np.array(hex_array), 'unsigned char', \"credit_model\")\n",
    "# Calling Function to create a header file with given C code as a string\n",
    "header_str = c_writer.create_header(c_model, \"credit_model\")"
   ]
  },
  {
   "cell_type": "code",
   "execution_count": 41,
   "metadata": {},
   "outputs": [],
   "source": [
    "#Writing to the header file\n",
    "with open(join(\"C:\\\\Users\\\\deept\\\\Desktop\\\\Sem 4\\\\Sem4 Projects\\\\CN Project\", \"credit_model\") + '.h', 'w') as file:\n",
    "    file.write(header_str)"
   ]
  },
  {
   "cell_type": "code",
   "execution_count": 42,
   "metadata": {},
   "outputs": [
    {
     "name": "stdout",
     "output_type": "stream",
     "text": [
      "const unsigned int X_test_dim1 = 5;\n",
      "const unsigned int X_test_dim2 = 29;\n",
      "\n",
      "const float X_test[5][29] = {\n",
      "    -0.1767624871547712, -0.01257830042819834, 0.09114190496190434, \n",
      "    -0.08912739641492215, 0.01042116317795072, -0.018201231350455364, \n",
      "    -0.0013985528303141837, -0.0025675689506501603, -0.06984850801432883, \n",
      "    -0.012486267398158843, -0.0527996651191385, -0.14115349071151576, \n",
      "    0.005488000746610829, -0.1195799188488662, 0.025663161569303428, \n",
      "    0.10756798377236211, 0.05341646380481171, -0.17904065107569042, \n",
      "    0.0032208853773887493, 0.005208277357057328, -0.0009340940057964155, \n",
      "    -0.040428242008919105, 0.006459092411942691, -0.0534420146187649, \n",
      "    -0.05517488066317676, -0.19267304403864194, 0.0017475726872192502, \n",
      "    0.002876846161436283, 0.0005838584166693913, 0.03449496454499912, \n",
      "    -0.05980000659170307, 0.03501231570747203, -0.23155400162825598, \n",
      "    0.03846158501766525, 0.055650105961395004, -0.009947507184952202, \n",
      "    0.03819444726460856, -0.054132214797860706, 0.057630051353860165, \n",
      "    -0.030319390409308207, -0.14502125059227225, 0.032362191764176554, \n",
      "    -0.13333334770938507, -0.016364223422849843, -0.004574362337113034, \n",
      "    -0.03253028357703097, 0.02458660047134426, -0.22587375480879754, \n",
      "    -0.003360805428505613, -0.009588192668636137, 0.0022828437911647007, \n",
      "    0.0003969030805651084, 0.14312760020484433, -0.04580541844820765, \n",
      "    -0.1098555332981023, -0.004531827160563116, -0.012870527016600155, \n",
      "    0.001323412411117287, 0.8730149380459463, 0.0045908578823281665, \n",
      "    -0.2555202898143251, -0.0018647631683275376, 0.03622862058809008, \n",
      "    -0.003202996294261581, 0.004995928729078114, -0.015213858743852327, \n",
      "    -0.014981367537644825, 0.012251834629617613, 0.026059767826694624, \n",
      "    0.1624437518735398, 0.16310136769288286, 0.04552054275016399, \n",
      "    -0.11472719956497207, -0.016542596660099364, -0.07526733400686035, \n",
      "    -0.03963983763495997, 0.12182449998058617, -0.002707472216343186, \n",
      "    0.0038859126938278012, 0.049040994467943286, -0.005482666763180055, \n",
      "    -0.02003897989849378, 0.06795093745313086, 0.20347996442494604, \n",
      "    -0.0035304128365782916, -0.002814713777230374, 2.958215977791583e-05, \n",
      "    -1.7923768845268062, -0.3862700676875076, -0.33233699105276865, \n",
      "    0.27183735957292954, -0.06377454063989192, 0.019622068353980726, \n",
      "    0.03355754213842007, -0.028204665966599315, -0.10099505497680965, \n",
      "    -0.02074244992788864, 0.1302072529822534, 0.07231556852716031, \n",
      "    -0.028490859351574208, 0.14505387321683663, 0.048498768999651616, \n",
      "    0.01940309345463575, -0.0053152790267385905, -0.051825792388921564, \n",
      "    -0.39821368726031575, 0.14060521960249048, 0.06657637547859545, \n",
      "    -0.1205856995557771, -0.11356390136174754, -0.03149988443454652, \n",
      "    -0.06797428859738831, -0.054502789076503196, -0.01745540651997388, \n",
      "    0.014406138075266346, 0.11091130178629537, -0.21490912609898538, \n",
      "    0.061494212419372, -0.16267910985042092, -0.052891586471555924, \n",
      "    0.08107163179281691, 0.03877504764285545, 0.0012162392531610085, \n",
      "    0.058696088293901244, -0.06563819056042623, -0.05405602269505962, \n",
      "    0.00480853169787187, -0.060915907662409195, -0.024018271519926613, \n",
      "    -0.08678768632841422, 0.09400768988230243, 0.05038152379165271, \n",
      "    0.07608480864254318, 0.18672884649171903, 0.028842518082487327, \n",
      "    -0.0004028904791041164, -0.0014209004351588425, -0.03407035528912616, \n",
      "    -0.0069951079183248, 0.19350063168490805, -0.019706445169512442, \n",
      "    0.07755547253284818, -0.00021489736260545028, 0.0034242322461874577, \n",
      "    2.958215977791583e-05\n",
      "};\n",
      "\n"
     ]
    }
   ],
   "source": [
    "# Converting a sample piece of the X test and y test data to C (for the purpose of ino code (arduino) to load and test \n",
    "# the sample and compare with our python output\n",
    "\n",
    "Xtest = X_test[0:5,:]\n",
    "print(c_writer.create_array(Xtest,\"float\",\"X_test\"))"
   ]
  },
  {
   "cell_type": "code",
   "execution_count": 43,
   "metadata": {},
   "outputs": [
    {
     "name": "stdout",
     "output_type": "stream",
     "text": [
      "const unsigned int y_test_dim1 = 5;\n",
      "const unsigned int y_test_dim2 = 1;\n",
      "\n",
      "const uint8_t y_test[5][1] = {\n",
      "    0, 0, 0, 0, 0\n",
      "};\n",
      "\n"
     ]
    }
   ],
   "source": [
    "ytest=y_test[0:5]\n",
    "print(c_writer.create_array(ytest,\"uint8_t\",\"y_test\"))"
   ]
  },
  {
   "cell_type": "markdown",
   "metadata": {},
   "source": [
    "## REFERENCES\n",
    "\n",
    "### 1. https://www.kaggle.com/aaryanverma/anamoly-detection-with-82-accuracy-on-test-data/comments\n",
    "### 2. https://eloquentarduino.github.io/2021/03/tinyml-classification-example-wine-dataset/\n",
    "### 3. https://github.com/ShawnHymel/tinyml-example-anomaly-detection\n",
    "### 4. TinyML: Machine Learning with TensorFlow Lite on Arduino and Ultra-Low-Power Microcontrollers"
   ]
  },
  {
   "cell_type": "code",
   "execution_count": null,
   "metadata": {},
   "outputs": [],
   "source": []
  }
 ],
 "metadata": {
  "kernelspec": {
   "display_name": "Python 3",
   "language": "python",
   "name": "python3"
  },
  "language_info": {
   "codemirror_mode": {
    "name": "ipython",
    "version": 3
   },
   "file_extension": ".py",
   "mimetype": "text/x-python",
   "name": "python",
   "nbconvert_exporter": "python",
   "pygments_lexer": "ipython3",
   "version": "3.7.4"
  }
 },
 "nbformat": 4,
 "nbformat_minor": 4
}
